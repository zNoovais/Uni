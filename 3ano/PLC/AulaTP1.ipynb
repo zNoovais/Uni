{
  "cells": [
    {
      "cell_type": "markdown",
      "metadata": {
        "id": "R_04OtjA3d2q"
      },
      "source": [
        "## Sobre Python\n",
        "\n",
        "Python é uma linguagem de programação de alto nível que pode ser usada em vários domínios (e.g.: aplicações web, processamento de língua natural, machine learning, etc.). É dinamicamente tipada e possui coletor de lixo. Suporta ainda vários paradigmas de programação (funcional, imperativo, orientado a objetos)."
      ]
    },
    {
      "cell_type": "markdown",
      "metadata": {
        "id": "HyU7HQ2w43nq"
      },
      "source": [
        "### Exemplo de programas simples em Python"
      ]
    },
    {
      "cell_type": "code",
      "execution_count": 1,
      "metadata": {
        "colab": {
          "base_uri": "https://localhost:8080/"
        },
        "id": "5KIkS6Ok43QA",
        "outputId": "a82a0465-0174-4106-cb62-dbd5f473bef0"
      },
      "outputs": [],
      "source": [
        "def main():\n",
        "  print(\"Hello World!\")\n",
        "# O que falta ?"
      ]
    },
    {
      "cell_type": "markdown",
      "metadata": {
        "id": "Nets8hWWC-9e"
      },
      "source": [
        "Ao contrário de linguagens como C, nas quais a função `main` determina o fluxo de execução, em Python apenas o código *top-level* é executado, isto é, o código no nível superior do ficheiro, fora de qualquer função ou classe."
      ]
    },
    {
      "cell_type": "code",
      "execution_count": 2,
      "metadata": {
        "colab": {
          "base_uri": "https://localhost:8080/"
        },
        "id": "P9u3ortHDVEI",
        "outputId": "c27c51b0-fef0-45eb-c71d-114b5a3d3b59"
      },
      "outputs": [
        {
          "name": "stdout",
          "output_type": "stream",
          "text": [
            "esta frase é impressa.\n",
            "esta frase não é impressa.\n"
          ]
        }
      ],
      "source": [
        "def teste():\n",
        "  print(\"esta frase não é impressa.\")\n",
        "\n",
        "print(\"esta frase é impressa.\")\n",
        "teste()"
      ]
    },
    {
      "cell_type": "markdown",
      "metadata": {
        "id": "oULL-9-wpfju"
      },
      "source": [
        "## Tipos de dados primitivos"
      ]
    },
    {
      "cell_type": "markdown",
      "metadata": {
        "id": "3YlpVwB0A3ta"
      },
      "source": [
        "### Inteiros"
      ]
    },
    {
      "cell_type": "code",
      "execution_count": 3,
      "metadata": {
        "colab": {
          "base_uri": "https://localhost:8080/",
          "height": 202
        },
        "id": "uEsKsnzMpfjv",
        "outputId": "15b2b15c-3bbc-4f83-da28-f2af155b8b5d"
      },
      "outputs": [
        {
          "name": "stdout",
          "output_type": "stream",
          "text": [
            "8\n",
            "11\n"
          ]
        }
      ],
      "source": [
        "x = 5\n",
        "y = 3\n",
        "x=8\n",
        "print(x)\n",
        "print(x + y) # pq?"
      ]
    },
    {
      "cell_type": "markdown",
      "metadata": {
        "id": "wiCuE0KSA5nU"
      },
      "source": [
        "### Booleanos"
      ]
    },
    {
      "cell_type": "code",
      "execution_count": null,
      "metadata": {
        "colab": {
          "base_uri": "https://localhost:8080/"
        },
        "id": "pw7OI8v-pfjv",
        "outputId": "622876d7-4d51-4a18-8029-291678c2e77f"
      },
      "outputs": [],
      "source": [
        "a = 10 < 5\n",
        "print(a)\n",
        "print(a or True)\n",
        "print(1 and (True or []) and not False)"
      ]
    },
    {
      "cell_type": "markdown",
      "metadata": {
        "id": "unR-iIN1BAcD"
      },
      "source": [
        "### Reais"
      ]
    },
    {
      "cell_type": "code",
      "execution_count": null,
      "metadata": {
        "colab": {
          "base_uri": "https://localhost:8080/"
        },
        "id": "MTFtoYWapfjw",
        "outputId": "0e50ccd7-6826-431b-8dda-65bea17658c7"
      },
      "outputs": [],
      "source": [
        "media = (13+18+12)/3\n",
        "print(media)\n",
        "print(type(media))\n",
        "print(round(media, 2))"
      ]
    },
    {
      "cell_type": "markdown",
      "metadata": {
        "id": "fus-3G5wBEGK"
      },
      "source": [
        "### Strings"
      ]
    },
    {
      "cell_type": "code",
      "execution_count": null,
      "metadata": {
        "colab": {
          "base_uri": "https://localhost:8080/"
        },
        "id": "BFKGydRipfjw",
        "outputId": "871c08a9-eba6-4f75-9c33-15f49451a266"
      },
      "outputs": [],
      "source": [
        "frase = \"Amor é fogo que arde sem se ver\"\n",
        "\n",
        "# Acesso a um caracter\n",
        "print(frase[12])\n",
        "# Slicing\n",
        "print(frase[5:12])\n",
        "# A contar do fim: índices negativos\n",
        "print(frase[-3:])\n",
        "# Cada N caracteres:\n",
        "print(frase[::3])\n",
        "# Inverter string:\n",
        "print(frase[::-1])"
      ]
    },
    {
      "cell_type": "code",
      "execution_count": null,
      "metadata": {
        "colab": {
          "base_uri": "https://localhost:8080/"
        },
        "id": "Uj122wnGpfjw",
        "outputId": "bf5fb276-447d-45f3-b1a3-04594ec6caf8"
      },
      "outputs": [],
      "source": [
        "frase = \"Amor é fogo que arde sem se ver\"\n",
        "\n",
        "# Comprimento e concatenação de strings\n",
        "print(\"A frase tem \" + str(len(frase)) + \" carateres.\")\n",
        "\n",
        "print(\"Vamos iterar sobre a string:\")\n",
        "for c in frase:\n",
        "    print(c)"
      ]
    },
    {
      "cell_type": "code",
      "execution_count": null,
      "metadata": {
        "colab": {
          "base_uri": "https://localhost:8080/"
        },
        "id": "dzqVgh2Npfjw",
        "outputId": "f9c2ac1c-df1b-4f62-a191-2bca85030627"
      },
      "outputs": [],
      "source": [
        "# Partir uma string em substrings usando um ou mais caracteres como separador\n",
        "frase = \"Amor é fogo que arde sem se ver\"\n",
        "# tiago@gmaiol.com\n",
        "palavras = frase.split()\n",
        "print(palavras)\n",
        "# O resultado é uma lista, vamos ver à frente..."
      ]
    },
    {
      "cell_type": "code",
      "execution_count": null,
      "metadata": {
        "colab": {
          "base_uri": "https://localhost:8080/"
        },
        "id": "yRapa-EF-9mV",
        "outputId": "0915666f-7713-4ab8-ba7d-9fcef82be965"
      },
      "outputs": [],
      "source": [
        "# ATENÇÃO: Python não tem nenhum tipo 'char'\n",
        "frase = \"Amor é fogo que arde sem se ver\"\n",
        "print(type(frase[0])) #  string ou char?"
      ]
    },
    {
      "cell_type": "markdown",
      "metadata": {
        "id": "QFXvHUFpAppy"
      },
      "source": [
        "## Condicionais"
      ]
    },
    {
      "cell_type": "code",
      "execution_count": null,
      "metadata": {
        "colab": {
          "base_uri": "https://localhost:8080/"
        },
        "id": "cdc4_0srArsL",
        "outputId": "928965da-6994-4aac-b344-f18805699a49"
      },
      "outputs": [],
      "source": [
        "if 10 > 5:\n",
        "  print(\"Está tudo bem!\")\n",
        "elif 10>70:\n",
        "  print(\"ok\")\n",
        "else: # o bloco 'else' é opcional\n",
        "  print(\"Passa-se algo de estranho...\")"
      ]
    },
    {
      "cell_type": "code",
      "execution_count": null,
      "metadata": {
        "colab": {
          "base_uri": "https://localhost:8080/"
        },
        "id": "uOXXcwODA1Q-",
        "outputId": "9c04f3ad-a484-4d36-e991-b1049e366b60"
      },
      "outputs": [],
      "source": [
        "idade = 22\n",
        "if idade < 18:\n",
        "  print(\"Ainda não pode beber\")\n",
        "else:\n",
        "  print(\"Se calhar não devia beber\")"
      ]
    },
    {
      "cell_type": "markdown",
      "metadata": {
        "id": "FAjCG3_H_0Mc"
      },
      "source": [
        "## Ciclos"
      ]
    },
    {
      "cell_type": "markdown",
      "metadata": {
        "id": "Pu8sN8JCBoeV"
      },
      "source": [
        "### Ciclo for"
      ]
    },
    {
      "cell_type": "code",
      "execution_count": null,
      "metadata": {
        "colab": {
          "base_uri": "https://localhost:8080/"
        },
        "id": "hUETJyvU_1di",
        "outputId": "5958a15c-fd67-4b4a-b179-7e06a03b045f"
      },
      "outputs": [],
      "source": [
        "for i in [1,2,3,4,5]:\n",
        "  print(i)\n",
        "\n",
        "print(\"-----\")\n",
        "\n",
        "# ou\n",
        "for i in range(1,6):\n",
        "  print(i)"
      ]
    },
    {
      "cell_type": "markdown",
      "metadata": {
        "id": "5vrW0z73Bq6A"
      },
      "source": [
        "### Ciclo while"
      ]
    },
    {
      "cell_type": "code",
      "execution_count": null,
      "metadata": {
        "colab": {
          "base_uri": "https://localhost:8080/"
        },
        "id": "FkkNUn0aAG-4",
        "outputId": "590a194f-f6b9-4a95-e09b-4bf4c98f2623"
      },
      "outputs": [],
      "source": [
        "i = 5\n",
        "while i > 0:\n",
        "  print(i)\n",
        "  i -= 1 # Python não possui sintaxe ++/--"
      ]
    },
    {
      "cell_type": "markdown",
      "metadata": {
        "id": "M1DyHtluNjic"
      },
      "source": [
        "## Ler input do terminal"
      ]
    },
    {
      "cell_type": "code",
      "execution_count": null,
      "metadata": {
        "colab": {
          "base_uri": "https://localhost:8080/"
        },
        "id": "bOw5LdsONpvX",
        "outputId": "47b9d554-dff5-4496-addc-ee7aac613e1c"
      },
      "outputs": [],
      "source": [
        "idade = input(\"Quantos anos tens?\") # devolve sempre uma string\n",
        "print(type(idade))\n",
        "idade = int(idade) # convertemos a string para um inteiro\n",
        "print(idade)"
      ]
    },
    {
      "cell_type": "markdown",
      "metadata": {
        "id": "LpoFdS4lpfjx"
      },
      "source": [
        "## Definição de funções\n",
        "\n",
        "Sintaxe:\n",
        "\n",
        "```\n",
        "def nome(arg1, arg2, ...):\n",
        "    instruções\n",
        "    [return resultado]\n",
        "```"
      ]
    },
    {
      "cell_type": "code",
      "execution_count": null,
      "metadata": {
        "colab": {
          "base_uri": "https://localhost:8080/"
        },
        "id": "FwlcsG1spfjx",
        "outputId": "ca11d4fc-92fa-4e55-a1b7-05d46344b148"
      },
      "outputs": [],
      "source": [
        "def add(a,b):\n",
        "    return a+b\n",
        "\n",
        "print(add(7,12))\n",
        "print(add(add(2,3),4))"
      ]
    },
    {
      "cell_type": "code",
      "execution_count": null,
      "metadata": {
        "colab": {
          "base_uri": "https://localhost:8080/"
        },
        "id": "uKC2flOrAc79",
        "outputId": "74db1eaa-4ba7-408a-e1b3-c4a57dff2b90"
      },
      "outputs": [],
      "source": [
        "def fact(n):\n",
        "  if n == 0: return 1\n",
        "  return n * fact(n - 1)\n",
        "\n",
        "print(fact(5))"
      ]
    },
    {
      "cell_type": "markdown",
      "metadata": {
        "id": "n5-_gOUcpfjx"
      },
      "source": [
        "### 1 - Exercício simples\n",
        "\n",
        "Especifique uma função, primeiro recursiva e depois iterativa, para calcular o resultado de elevar uma base a um determinado expoente.\n",
        "Depois escreva um programa que leia uma base B e dois expoentes Einf e Esup e imprima todas as potências de B entre Einf e Esup, usando uma das funções anteriores."
      ]
    },
    {
      "cell_type": "code",
      "execution_count": null,
      "metadata": {
        "colab": {
          "base_uri": "https://localhost:8080/"
        },
        "id": "n_I8HFuwpfjx",
        "outputId": "213eb3b3-0500-4341-a87a-ce826cc0a4ee"
      },
      "outputs": [],
      "source": [
        "def pot_recursiva(b, e):\n",
        "    if e == 0: return 1\n",
        "    else:\n",
        "       return pot_recursiva(b, e-1) * b\n",
        "\n",
        "def pot_iterativa(b, e):\n",
        "    res = 1\n",
        "    while e != 0:\n",
        "       res = res * b \n",
        "       e = e - 1\n",
        "    return res\n",
        "\n",
        "base = int(input(\"Base: \"))\n",
        "einf = int(input(\"Expoente inferior: \"))\n",
        "esup = int(input(\"Expoente superior: \"))\n",
        "\n",
        "for e in range(einf, esup + 1):\n",
        "  print(str(base) + \"^\" + str(e) + \" = \" + str(pot_recursiva(base, e)))\n",
        "  print(str(base) + \"^\" + str(e) + \" = \" + str(pot_iterativa(base, e)))\n",
        "\n"
      ]
    },
    {
      "cell_type": "markdown",
      "metadata": {
        "id": "kGWEDkMjL80p"
      },
      "source": [
        "## Tipos de dados estruturados:"
      ]
    },
    {
      "cell_type": "markdown",
      "metadata": {
        "id": "3cUF2puhpfjx"
      },
      "source": [
        "### TE1: Listas\n",
        "\n",
        "Uma lista é uma sequência finita e ordenada de elementos. Um elemento pode ser qualquer coisa."
      ]
    },
    {
      "cell_type": "markdown",
      "metadata": {
        "id": "N1MI0LE2pfjx"
      },
      "source": [
        "#### Construtores:"
      ]
    },
    {
      "cell_type": "code",
      "execution_count": null,
      "metadata": {
        "colab": {
          "base_uri": "https://localhost:8080/"
        },
        "id": "4Y9CQo26pfjy",
        "outputId": "b146d93e-c719-485a-c383-c858d30e38cd"
      },
      "outputs": [],
      "source": [
        "# lista vazia\n",
        "l = [] # ou: l = list()\n",
        "# lista homogénea\n",
        "l2 = [1,2,3,4,5]\n",
        "# lista heterogénea\n",
        "l3 = [11, \"onze\", 12, \"doze\"]\n",
        "# lista a partir de *range*\n",
        "l4 = list(range(1,11))\n",
        "# range != lista\n",
        "print(type(range(1,11)))\n",
        "\n",
        "# listas por compreensão\n",
        "l5 = [x for x in range(1,10) if x % 2 == 0]\n",
        "print(l5)\n",
        "\n",
        "l6 = [x for x in range(1,1001) if x % 23 == 0]\n",
        "print(l6)"
      ]
    },
    {
      "cell_type": "code",
      "execution_count": null,
      "metadata": {},
      "outputs": [],
      "source": [
        "frase = \"Amor é fogo que arde sem se ver\"\n",
        "palm3 = [x for x in frase.split() if len(x) > 3]\n",
        "print(palm3)"
      ]
    },
    {
      "cell_type": "markdown",
      "metadata": {
        "id": "ozB9pFRMpfjy"
      },
      "source": [
        "#### Comprimento"
      ]
    },
    {
      "cell_type": "code",
      "execution_count": null,
      "metadata": {
        "colab": {
          "base_uri": "https://localhost:8080/"
        },
        "id": "YWy9Cy6qpfjy",
        "outputId": "c4367494-c5f1-4b62-f9ab-5e730d43234a"
      },
      "outputs": [],
      "source": [
        "vogais = ['a', 'e', 'i', 'o', 'u']\n",
        "print(len(vogais))"
      ]
    },
    {
      "cell_type": "markdown",
      "metadata": {
        "id": "HEfTWjWIpfjz"
      },
      "source": [
        "#### _in_ e _not in_"
      ]
    },
    {
      "cell_type": "code",
      "execution_count": null,
      "metadata": {
        "colab": {
          "base_uri": "https://localhost:8080/"
        },
        "id": "L0_cL5Lspfjz",
        "outputId": "adf79efa-f283-4132-85a3-4394745f24d0"
      },
      "outputs": [],
      "source": [
        "texto = \"HELOASQTS-+\"\n",
        "texto = texto.lower()\n",
        "vogaisPresentes = []\n",
        "vogais=\"aeiou\"\n",
        "for v in vogais:\n",
        "    if v not in texto:\n",
        "        vogaisPresentes.append(False)\n",
        "    else:\n",
        "        vogaisPresentes.append(True)\n",
        "print(vogaisPresentes)"
      ]
    },
    {
      "cell_type": "markdown",
      "metadata": {
        "id": "SnhpsjQNpfjz"
      },
      "source": [
        "#### Acrescentar elementos a uma lista"
      ]
    },
    {
      "cell_type": "code",
      "execution_count": null,
      "metadata": {
        "colab": {
          "base_uri": "https://localhost:8080/"
        },
        "id": "aKaKI7topfj0",
        "outputId": "6bd6bb5e-8859-4acc-c227-0ec1f39ab7c3"
      },
      "outputs": [],
      "source": [
        "pares100 = []\n",
        "i = 0\n",
        "while i <= 100:\n",
        "  if i % 2 == 0:\n",
        "    pares100.append(i)\n",
        "  i += 1\n",
        "  print(i, end=\" \")\n",
        "print(pares100)\n",
        "\n",
        "# [x for x in range(0,101) if x % 2 == 0]"
      ]
    },
    {
      "cell_type": "markdown",
      "metadata": {
        "id": "07hhFOjFpfj0"
      },
      "source": [
        "#### Apagar o conteúdo duma lista"
      ]
    },
    {
      "cell_type": "code",
      "execution_count": null,
      "metadata": {
        "colab": {
          "base_uri": "https://localhost:8080/"
        },
        "id": "LqS3Wq89pfj0",
        "outputId": "6dd01ddf-fe54-4d91-b374-41f0d179af3b"
      },
      "outputs": [],
      "source": [
        "print(pares100.pop(1))\n",
        "print(pares100)\n",
        "\n",
        "pares100.clear()\n",
        "print(pares100)"
      ]
    },
    {
      "cell_type": "markdown",
      "metadata": {
        "id": "U1dSeur5pfj0"
      },
      "source": [
        "#### Copiar uma lista"
      ]
    },
    {
      "cell_type": "code",
      "execution_count": null,
      "metadata": {
        "colab": {
          "base_uri": "https://localhost:8080/"
        },
        "id": "TILGpcwApfj0",
        "outputId": "2b1af519-e0ad-4f97-e5da-607524276bcf"
      },
      "outputs": [],
      "source": [
        "cores = [\"vermelho\", \"verde\", \"azul\"]\n",
        "cores2 = cores.copy() + [\"amarelo\"]\n",
        "print(cores2)\n",
        "print(cores2.index(\"verde\"))"
      ]
    },
    {
      "cell_type": "code",
      "execution_count": null,
      "metadata": {
        "colab": {
          "base_uri": "https://localhost:8080/"
        },
        "id": "JuUYG8uIpfj0",
        "outputId": "5567c3e2-3263-47a6-bfe5-c01b0f468355"
      },
      "outputs": [],
      "source": [
        "for i, cor in enumerate(cores2):\n",
        "    print(str(i) + \": \" + cor)"
      ]
    },
    {
      "cell_type": "markdown",
      "metadata": {
        "id": "pxfdSJTUpfj0"
      },
      "source": [
        "#### Inserir um elemento numa determinada posição"
      ]
    },
    {
      "cell_type": "code",
      "execution_count": null,
      "metadata": {
        "colab": {
          "base_uri": "https://localhost:8080/"
        },
        "id": "U16byQ7rpfj0",
        "outputId": "27f10ffa-65c4-4f34-dd32-7455f175cd20"
      },
      "outputs": [],
      "source": [
        "cores2.insert(1, \"roxo\")\n",
        "print(cores2)"
      ]
    },
    {
      "cell_type": "markdown",
      "metadata": {
        "id": "N96rbo-Spfj1"
      },
      "source": [
        "#### Remover a primeira ocorrência de um elemento"
      ]
    },
    {
      "cell_type": "code",
      "execution_count": null,
      "metadata": {
        "colab": {
          "base_uri": "https://localhost:8080/"
        },
        "id": "oquS-D0cpfj1",
        "outputId": "2cd8988d-22f9-49ef-f584-f648a404f5e6"
      },
      "outputs": [],
      "source": [
        "cores2 = cores2 + [\"verde\", \"verde\"]\n",
        "print(cores2)\n",
        "cores2.remove(\"verde\")\n",
        "print(cores2)"
      ]
    },
    {
      "cell_type": "markdown",
      "metadata": {
        "id": "w96jHO5Hpfj1"
      },
      "source": [
        "#### Ordem e ordenação"
      ]
    },
    {
      "cell_type": "code",
      "execution_count": null,
      "metadata": {
        "colab": {
          "base_uri": "https://localhost:8080/"
        },
        "id": "Vvcc-kv2pfj1",
        "outputId": "dc524cb7-4e9a-46ae-aef8-928498c58561"
      },
      "outputs": [],
      "source": [
        "lista = [x for x in range(1,21)]\n",
        "print(lista)\n",
        "lista.reverse()\n",
        "print(lista)\n",
        "# lista.sort()\n",
        "lista2 = sorted(lista)\n",
        "print(lista2)"
      ]
    },
    {
      "cell_type": "markdown",
      "metadata": {
        "id": "c42ublQOGEbq"
      },
      "source": [
        "#### 2 - Exercício: maior elemento de uma lista"
      ]
    },
    {
      "cell_type": "code",
      "execution_count": null,
      "metadata": {
        "colab": {
          "base_uri": "https://localhost:8080/"
        },
        "id": "mzKlwh6oGROO",
        "outputId": "7db77f2c-8bfc-4800-e9f6-358df1924d18"
      },
      "outputs": [],
      "source": [
        "def maior(lista):\n",
        "  res = None\n",
        "  for elem in lista:\n",
        "    if not res or elem > res:\n",
        "      res = elem\n",
        "  return res\n",
        "\n",
        "print(maior([4,2,5,1,3]))"
      ]
    },
    {
      "cell_type": "markdown",
      "metadata": {
        "id": "xrODVJ71pfj2"
      },
      "source": [
        "### TE2: Tuplos\n",
        "\n",
        "Tuplos podem conter elementos de qualquer tipo, mas o seu comprimento não pode ser alterado."
      ]
    },
    {
      "cell_type": "markdown",
      "metadata": {
        "id": "KbNf6Db5pfj2"
      },
      "source": [
        "#### Construtores: (), tuple()"
      ]
    },
    {
      "cell_type": "code",
      "execution_count": 29,
      "metadata": {
        "id": "HqG7nCZNpfj2"
      },
      "outputs": [],
      "source": [
        "estudante1 = (\"Jane Doe\", \"A00000\", \"ENGINF\", 21, False, True, True, False)\n",
        "coordenadas = tuple([39, 9])"
      ]
    },
    {
      "cell_type": "markdown",
      "metadata": {
        "id": "TSDccOh0pfj2"
      },
      "source": [
        "#### Acesso"
      ]
    },
    {
      "cell_type": "code",
      "execution_count": null,
      "metadata": {
        "colab": {
          "base_uri": "https://localhost:8080/"
        },
        "id": "uCG9Pbd_pfj3",
        "outputId": "2bc22c1b-76ae-4283-9128-6aae10bfa060"
      },
      "outputs": [],
      "source": [
        "curso1 = estudante1[2]\n",
        "print(curso1)"
      ]
    },
    {
      "cell_type": "markdown",
      "metadata": {
        "id": "fgfBp_Gzpfj3"
      },
      "source": [
        "#### Acesso com desmembramento (unfold/unpack)"
      ]
    },
    {
      "cell_type": "code",
      "execution_count": null,
      "metadata": {
        "colab": {
          "base_uri": "https://localhost:8080/"
        },
        "id": "Jbz4eK9hpfj3",
        "outputId": "a6acde86-5554-475a-b413-4636ae0413c3"
      },
      "outputs": [],
      "source": [
        "nome, id, curso, idade, *presencas = estudante1\n",
        "print(id + \": \" + nome)\n",
        "print(presencas)"
      ]
    },
    {
      "cell_type": "markdown",
      "metadata": {
        "id": "hbyiAdGopfj3"
      },
      "source": [
        "#### Testar se um valor está no tuplo"
      ]
    },
    {
      "cell_type": "code",
      "execution_count": null,
      "metadata": {
        "colab": {
          "base_uri": "https://localhost:8080/"
        },
        "id": "iQIwhgjtpfj3",
        "outputId": "bb0717d5-e25a-49e0-ba5a-8b520f31ccf5"
      },
      "outputs": [],
      "source": [
        "if False in estudante1:\n",
        "    print(\"Faltou pelo menos uma vez!\")\n",
        "\n",
        "if True in presencas:\n",
        "    print(\"Veio a pelo menos 1 aula...\")"
      ]
    },
    {
      "cell_type": "markdown",
      "metadata": {
        "id": "JpiSU5wcIGoP"
      },
      "source": [
        "Para remover um elemento de um tuplo, precisamos de criar um tuplo novo."
      ]
    },
    {
      "cell_type": "markdown",
      "metadata": {
        "id": "s5Y6kLehpfj5"
      },
      "source": [
        "#### 3 - Exercício: unzip\n",
        "\n",
        "A partir de uma lista de tuplos, define duas listas."
      ]
    },
    {
      "cell_type": "code",
      "execution_count": null,
      "metadata": {
        "colab": {
          "base_uri": "https://localhost:8080/"
        },
        "id": "uuDsGXebpfj5",
        "outputId": "4b3f8469-60ff-4931-9863-5cd3910c0f06"
      },
      "outputs": [],
      "source": [
        "def unzip(l):\n",
        "  l1 = []\n",
        "  l2 = []\n",
        "  for num, fruta in l:\n",
        "    l1.append(num)\n",
        "    l2.append(fruta)\n",
        "  return (l1, l2)\n",
        "\n",
        "lista = [(1, \"banana\"), (2, \"maçã\"), (3, \"melancia\"), (4, \"cereja\")]\n",
        "\n",
        "(unzipped1, unzipped2) = unzip(lista)\n",
        "print(unzipped1)\n",
        "print(unzipped2)"
      ]
    },
    {
      "cell_type": "markdown",
      "metadata": {
        "id": "JyP-73aZpfj5"
      },
      "source": [
        "### TE3: Dicionários\n",
        "\n",
        "#### Construtores: {}, dict()"
      ]
    },
    {
      "cell_type": "code",
      "execution_count": null,
      "metadata": {
        "colab": {
          "base_uri": "https://localhost:8080/"
        },
        "id": "g-DdhKx9pfj5",
        "outputId": "9438e632-727a-40ce-aee2-7eaf3f2511b3"
      },
      "outputs": [],
      "source": [
        "d1 = dict()\n",
        "d1[\"Python\"] = True\n",
        "print(d1)\n",
        "\n",
        "d2 = {\"Python\" : 6, \"Haskell\" : 15, \"Web\" : { \"HTML\" : 20, \"CSS\": 13}}\n",
        "print(d2)\n",
        "print(d2[\"Web\"][\"CSS\"])\n",
        "\n",
        "# a partir de uma lista de tuplos\n",
        "d3 = dict([(1, \"banana\"), (2, \"maçã\"), (3, \"melancia\"), (4, \"cereja\")])\n",
        "print(d3)"
      ]
    },
    {
      "cell_type": "markdown",
      "metadata": {
        "id": "TDlYO-sGpfj5"
      },
      "source": [
        "#### Acesso"
      ]
    },
    {
      "cell_type": "code",
      "execution_count": null,
      "metadata": {
        "colab": {
          "base_uri": "https://localhost:8080/"
        },
        "id": "Z-fhPKOVpfj5",
        "outputId": "e2f18bd3-3bf6-4050-a31c-aaf214290ecd"
      },
      "outputs": [],
      "source": [
        "compras = {'maçã': 5, 'laranja':6, 'banana': 7}\n",
        "print(compras['laranja'])\n",
        "print(compras.get('melancia', \"Não existe!\"))"
      ]
    },
    {
      "cell_type": "markdown",
      "metadata": {
        "id": "MX_YAXr0pfj6"
      },
      "source": [
        "#### Extrair chaves"
      ]
    },
    {
      "cell_type": "code",
      "execution_count": null,
      "metadata": {
        "colab": {
          "base_uri": "https://localhost:8080/"
        },
        "id": "RQgCy2cnpfj6",
        "outputId": "b9481bda-facb-4ec0-aa99-f5be70d1341f"
      },
      "outputs": [],
      "source": [
        "distrib = {\"LCC\": 23, \"ENGBIOM\": 35, \"LEI\": 32, \"ENGFIS\": 17}\n",
        "chaves = list(distrib.keys())\n",
        "print(chaves)"
      ]
    },
    {
      "cell_type": "markdown",
      "metadata": {
        "id": "dxwP_Ugipfj6"
      },
      "source": [
        "#### Extrair valores"
      ]
    },
    {
      "cell_type": "code",
      "execution_count": null,
      "metadata": {
        "colab": {
          "base_uri": "https://localhost:8080/"
        },
        "id": "j1piqZNvpfj6",
        "outputId": "2d7547c7-c74b-4b0f-cb5c-463e0729c0fc"
      },
      "outputs": [],
      "source": [
        "distrib = {\"LCC\": 23, \"ENGBIOM\": 35, \"LEI\": 32, \"ENGFIS\": 17}\n",
        "valores = distrib.values()\n",
        "print(valores)"
      ]
    },
    {
      "cell_type": "markdown",
      "metadata": {
        "id": "cZcUFX7Mpfj6"
      },
      "source": [
        "#### Concatenar dicionários"
      ]
    },
    {
      "cell_type": "code",
      "execution_count": null,
      "metadata": {
        "colab": {
          "base_uri": "https://localhost:8080/"
        },
        "id": "0v8AdK26pfj7",
        "outputId": "0f6f24fe-a764-44fa-b826-a71abd642ab2"
      },
      "outputs": [],
      "source": [
        "legumes = {\"cenouras\": 6, \"batatas\":20, \"cebolas\": 12}\n",
        "frutas = {\"tangerina\": 30, \"pêras\":8, \"bananas\": 6, \"romãs\": 2}\n",
        "charcutaria = {\"fiambre\": 10, \"queijo\": 16, \"chouriço\": 1}\n",
        "listaCompras = legumes.copy()\n",
        "listaCompras.update(frutas)\n",
        "listaCompras.update(charcutaria)\n",
        "print(listaCompras)"
      ]
    },
    {
      "cell_type": "code",
      "execution_count": null,
      "metadata": {
        "colab": {
          "base_uri": "https://localhost:8080/"
        },
        "id": "Uj6D5ssGpfj7",
        "outputId": "1d26b63c-2cbb-4d55-bab6-56129f7522c9"
      },
      "outputs": [],
      "source": [
        "legumes = {\"cenouras\": 6, \"batatas\":20, \"cebolas\": 12}\n",
        "frutas = {\"tangerina\": 30, \"pêras\":8, \"bananas\": 6, \"romãs\": 2}\n",
        "charcutaria = {\"fiambre\": 10, \"queijo\": 16, \"chouriço\": 1}\n",
        "listaCompras = {}\n",
        "for chave in legumes.keys():\n",
        "    listaCompras[chave] = legumes[chave]\n",
        "for chave in frutas.keys():\n",
        "    listaCompras[chave] = frutas[chave]\n",
        "for chave in charcutaria:\n",
        "    listaCompras[chave] = charcutaria[chave]\n",
        "print(listaCompras)"
      ]
    },
    {
      "cell_type": "markdown",
      "metadata": {
        "id": "4nmM1G2Fpfj7"
      },
      "source": [
        "#### Verificar se uma chave está no dicionário"
      ]
    },
    {
      "cell_type": "code",
      "execution_count": null,
      "metadata": {
        "id": "Dtx8PcvEpfj7"
      },
      "outputs": [],
      "source": [
        "def pertenceChave(c, d):\n",
        "    return (c in d)"
      ]
    },
    {
      "cell_type": "code",
      "execution_count": null,
      "metadata": {
        "colab": {
          "base_uri": "https://localhost:8080/",
          "height": 199
        },
        "id": "i5f0Blpjpfj7",
        "outputId": "56bd4ee2-fa63-4b67-b6de-fcd4598698cc"
      },
      "outputs": [],
      "source": [
        "print(pertenceChave(\"bananas\", listaCompras))\n",
        "print(pertenceChave(\"beterrabas\", listaCompras))"
      ]
    },
    {
      "cell_type": "markdown",
      "metadata": {
        "id": "LXsioKqepfj8"
      },
      "source": [
        "#### 4 - Exercício:\n",
        "\n",
        "Escreve um programa em Python que leia um número inteiro positivo e crie um dicionário com chaves de 1 até esse número, em que o valor associado a cada chave é o quadrado dessa chave."
      ]
    },
    {
      "cell_type": "code",
      "execution_count": null,
      "metadata": {
        "colab": {
          "base_uri": "https://localhost:8080/"
        },
        "id": "LZyYn2UPpfj8",
        "outputId": "9331cb31-756c-4583-c590-850538e6c024"
      },
      "outputs": [],
      "source": [
        "v = int(input(\"introduz um valor: \"))\n",
        "d = {}\n",
        "# d = {x:x*x for x in range(1,v+1) }\n",
        "\n",
        "for x in range(1,v+1):\n",
        "    d[x] = x*x\n",
        "print(d)"
      ]
    },
    {
      "cell_type": "markdown",
      "metadata": {
        "id": "wCFkeKNtMAhA"
      },
      "source": [
        "## Funções de Ordem Superior\n",
        "\n",
        "Em certas situações, poderá ser preferível ou até mais eficiente usar funções de ordem superior em vez de algoritmos iterativos ou compreensão de listas."
      ]
    },
    {
      "cell_type": "markdown",
      "metadata": {
        "id": "zRLkFty6E4PH"
      },
      "source": [
        "### Map"
      ]
    },
    {
      "cell_type": "code",
      "execution_count": null,
      "metadata": {
        "colab": {
          "base_uri": "https://localhost:8080/"
        },
        "id": "g5ghmB-aMD0q",
        "outputId": "10f95867-cdba-4ff6-e976-e54998cc5f51"
      },
      "outputs": [],
      "source": [
        "dobros = map(lambda x: x * 2, range(1,6))\n",
        "print(dobros) # funções como a map são preguiçosas, ou seja, só processam os\n",
        "              # seus valores quando estes são necessários\n",
        "print(list(dobros)) # forçamos o map a processar os valores, colocando-os numa lista"
      ]
    },
    {
      "cell_type": "markdown",
      "metadata": {
        "id": "2Dx-0H3mE5nI"
      },
      "source": [
        "### Filter"
      ]
    },
    {
      "cell_type": "code",
      "execution_count": null,
      "metadata": {
        "colab": {
          "base_uri": "https://localhost:8080/"
        },
        "id": "9XGZhgzOMSwy",
        "outputId": "17b488b7-1bac-46d8-b1cf-10a3f4b1587a"
      },
      "outputs": [],
      "source": [
        "def isEven(n):\n",
        "  return n % 2 == 0\n",
        "\n",
        "evens = filter(isEven, range(1,11))\n",
        "print(list(evens))"
      ]
    },
    {
      "cell_type": "markdown",
      "metadata": {
        "id": "tBKVmGNFE65i"
      },
      "source": [
        "### Fold / reduce"
      ]
    },
    {
      "cell_type": "code",
      "execution_count": null,
      "metadata": {
        "colab": {
          "base_uri": "https://localhost:8080/"
        },
        "id": "fsd9KSWKMh6R",
        "outputId": "b90ae514-ea87-401d-efb8-f75aa1f27963"
      },
      "outputs": [],
      "source": [
        "from functools import reduce\n",
        "\n",
        "lista = [3,5,4,6,1,2]\n",
        "maior = lista[0]\n",
        "# print(\"O maior elemento é:\", reduce(lambda acc, x: x if x > acc else acc, lista, maior))\n",
        "print(\"O maior elemento é:\", reduce(lambda acc, x: x if x > acc else acc, lista, lista[0]))\n",
        "# reduce(function, sequence[, initial]) é equivalente ao `foldl` de Haskell"
      ]
    },
    {
      "cell_type": "code",
      "execution_count": null,
      "metadata": {},
      "outputs": [],
      "source": [
        "lista = [3,5,4,6,1,2]\n",
        "def soma(acc, elem):\n",
        "    return acc + elem\n",
        "\n",
        "print(\"A soma é:\", reduce(soma, lista, lista[0]))"
      ]
    },
    {
      "cell_type": "markdown",
      "metadata": {
        "id": "qnEbPLd2Nghs"
      },
      "source": [
        "## Input e Output de ficheiros"
      ]
    },
    {
      "cell_type": "markdown",
      "metadata": {
        "id": "2UR1RUBmN5gI"
      },
      "source": [
        "Modos de abertura de um ficheiro:\n",
        "* \"r\" - Read - Valor por omissão. Abre o ficheiro para leitura, devolve error se o ficheiro não existir;\n",
        "* \"a\" - Append - Abre o ficheiro para acrescentar, cria o ficheiro se este não existir;\n",
        "* \"w\" - Write - Abre o ficheiro para escrever, cria o ficheiro se este não existir, apaga o conteúdo se este existir;\n",
        "* \"x\" - Create - Cria o ficheiro, devolve error se o ficheiro já existir.\n",
        "\n",
        "Parâmetro adicional ao modo:\n",
        "* \"t\" - Text - Valor por omissão. Ficheiro textual;\n",
        "* \"b\" - Binary - Ficheiro binário, por exemplo, imagens."
      ]
    },
    {
      "cell_type": "code",
      "execution_count": 5,
      "metadata": {
        "id": "pLJRPs3JN7lI"
      },
      "outputs": [
        {
          "name": "stdout",
          "output_type": "stream",
          "text": [
            "7\n"
          ]
        }
      ],
      "source": [
        "f = open(\"teste.txt\", \"rt\")\n",
        "content = f.read() # string\n",
        "print(len(content.split()))\n",
        "f.close() # Não esquecer de fechar o ficheiro"
      ]
    },
    {
      "cell_type": "markdown",
      "metadata": {
        "id": "E0yd830HyZnu"
      },
      "source": [
        "### Ler linha a linha dum ficheiro"
      ]
    },
    {
      "cell_type": "code",
      "execution_count": null,
      "metadata": {
        "id": "m0HxgiGEygRv"
      },
      "outputs": [],
      "source": [
        "f = open(\"teste.txt\")\n",
        "for linha in f:\n",
        "  print(linha, end=\"\")"
      ]
    },
    {
      "cell_type": "markdown",
      "metadata": {
        "id": "YVStKrIvzA8S"
      },
      "source": [
        "### Ler a primeira e a segunda linha de um ficheiro"
      ]
    },
    {
      "cell_type": "code",
      "execution_count": null,
      "metadata": {
        "id": "OP46l5fEzH7u"
      },
      "outputs": [],
      "source": [
        "f = open(\"teste.txt\")\n",
        "linha1 = f.readline()\n",
        "linha2 = f.readline()\n",
        "print(linha1, linha2)"
      ]
    },
    {
      "cell_type": "markdown",
      "metadata": {
        "id": "pshJNCFMyzJH"
      },
      "source": [
        "### Ler o ficheiro de uma vez"
      ]
    },
    {
      "cell_type": "code",
      "execution_count": null,
      "metadata": {
        "id": "2jsInz96OPqo"
      },
      "outputs": [],
      "source": [
        "with open(\"teste.txt\") as f:\n",
        "  content = f.read()"
      ]
    },
    {
      "cell_type": "markdown",
      "metadata": {
        "id": "w0WFl0SMy5YC"
      },
      "source": [
        "### Escrever no ficheiro"
      ]
    },
    {
      "cell_type": "code",
      "execution_count": null,
      "metadata": {
        "id": "LtDXdL0SOjee"
      },
      "outputs": [],
      "source": [
        "with open(\"output.txt\", \"w\") as f:\n",
        "  f.write(\"O ficheiro só vai ter esta linha de texto.\")"
      ]
    },
    {
      "cell_type": "markdown",
      "metadata": {
        "id": "rMaFgNA_wS2a"
      },
      "source": [
        "### Ler do stdin\n",
        "Muitos dos programas nesta UC devem ler do stdin (canal de entrada do SO).\n"
      ]
    },
    {
      "cell_type": "code",
      "execution_count": null,
      "metadata": {
        "id": "BtQ4H_Bdwx0A"
      },
      "outputs": [],
      "source": [
        "import sys\n",
        "linhas = 0\n",
        "pals = 0\n",
        "chars = 0\n",
        "\n",
        "for linha in sys.stdin:\n",
        "  linhas = linhas + 1\n",
        "  pals = pals + len(linha.split())\n",
        "  chars = chars + len(linha)\n",
        "\n",
        "print(linhas, chars)"
      ]
    },
    {
      "cell_type": "markdown",
      "metadata": {
        "id": "ItXfVpIJGCE8"
      },
      "source": [
        "## F-strings\n",
        "\n",
        "A forma mais fácil de imprimir strings formatadas em Python é através de f-strings.\n",
        "\n",
        "Apenas colocamos um `f` antes das aspas iniciais e podemos inserir variáveis diretamente dentro de uma string com chavetas."
      ]
    },
    {
      "cell_type": "code",
      "execution_count": 6,
      "metadata": {
        "colab": {
          "base_uri": "https://localhost:8080/"
        },
        "id": "ayS6h6L7GL5V",
        "outputId": "cb472f4a-d70a-4eb8-b485-fc70c9964a92"
      },
      "outputs": [
        {
          "name": "stdout",
          "output_type": "stream",
          "text": [
            "A soma de 5 com 8 é 13.\n",
            "01.67\n"
          ]
        }
      ],
      "source": [
        "num1 = 5\n",
        "num2 = 8\n",
        "\n",
        "print(f\"A soma de {num1} com {num2} é {num1 + num2}.\")\n",
        "print(f\"{5/3:05.3}\")"
      ]
    },
    {
      "cell_type": "markdown",
      "metadata": {
        "id": "ZM5r5Lta0kxb"
      },
      "source": [
        "# Exercícios"
      ]
    },
    {
      "cell_type": "markdown",
      "metadata": {
        "id": "mGBEWRrN0qo9"
      },
      "source": [
        "**1**\n",
        "Partindo do dataset [alunos.csv](https://epl.di.uminho.pt/~jcr/AULAS/ATP2021/datasets/alunos.csv) :\n",
        "1. Leia e imprima todas as entradas do ficheiro csv\n",
        "2. Crie uma função que verifique quantas linhas tem o ficheiro\n",
        "3. Crie um dicionário para albergar todas as informações relativas a um aluno com o formato:\n",
        "{\n",
        "id_aluno : (\n",
        "notas:[TPC1,TPC,TPC3,TPC4],\n",
        "nome:\"NOME\",\n",
        "curso:\"CURSO\"\n",
        ")\n",
        "}\n",
        "\n",
        "  3.1 Quais os alunos com melhor média ?\n",
        "\n",
        "  3.2 Quantos alunos de LEI tem a média dos tpcs superior a 15?\n",
        "\n",
        "**2**\n",
        "Partindo do dataset [cinema.json](https://epl.di.uminho.pt/~jcr/AULAS/ATP2021/datasets/cinemaATP.json) :\n",
        "1. Carregue a informação presente no dataset para uma estrutura à sua escolha\n",
        "2. Crie diferentes funções de maneira a que seja possível\n",
        "  1. Consultar um filme na base de dados: a partir do id ou a partir do título, por exemplo \"Todos os filmes com a palavra office no título;\n",
        "  2. Listar todos os filmes por ordem alfabética de título;\n",
        "  3. Listar todos os filmes de um determinado género;\n",
        "  4. Listar todos os filmes de um determinado ator;\n",
        "  5. Produzir os seguintes indicadores estatísticos:\n",
        "     1. Quantos filmes existem na BD?\n",
        "     2. Qual a distribuição dos filmes por género?\n",
        "     3. Qual a distribuição de filmes por ator (apenas o top10)?\n",
        "\n"
      ]
    },
    {
      "cell_type": "markdown",
      "metadata": {
        "id": "OtAA-HGn7sxK"
      },
      "source": [
        "## Notas de apoio para trabalhar com ficheiros csv e json"
      ]
    },
    {
      "cell_type": "code",
      "execution_count": 4,
      "metadata": {
        "id": "_i6jZHdBSzUk"
      },
      "outputs": [
        {
          "name": "stdout",
          "output_type": "stream",
          "text": [
            "['id_aluno', 'nome', 'curso', 'tpc1', 'tpc2', 'tpc3', 'tpc4']\n",
            "['a1', 'Aysha Melanie Gilberto', 'LEI', '12', '8', '19', '8']\n",
            "['a2', 'Igor André Cantanhede', 'ENGFIS', '12', '16', '18', '20']\n",
            "['a3', 'Laurénio Narciso', 'ENGFIS', '8', '14', '15', '14']\n",
            "['a4', 'Jasnoor Casegas', 'LCC', '14', '20', '17', '11']\n",
            "['a5', 'Tawseef Rebouças', 'ENGBIOM', '13', '14', '13', '17']\n",
            "['a6', 'Eryk Clementino', 'LEI', '10', '19', '11', '14']\n",
            "['a7', 'Ianna Noivo', 'ENGBIOM', '15', '15', '17', '16']\n",
            "['a8', 'Ayla Thaissa Reina', 'ENGBIOM', '12', '8', '8', '18']\n",
            "['a9', 'Cássia Viviane Coitã', 'ENGFIS', '19', '9', '14', '10']\n",
            "['a10', 'Koby Vindima', 'LEI', '9', '14', '20', '13']\n",
            "['a11', 'Gustavo Martim Hernandez', 'ENGBIOM', '11', '8', '14', '11']\n",
            "['a12', 'Siddarta Beiriz', 'LEI', '17', '10', '16', '16']\n",
            "['a13', 'Daniela Patrícia Montes', 'ENGBIOM', '15', '15', '18', '19']\n",
            "['a14', 'Kaylla Pessego', 'LCC', '10', '14', '17', '15']\n",
            "['a15', 'Bianca Cristina Primitivo', 'ENGBIOM', '16', '9', '18', '10']\n",
            "['a16', 'Magna Galhardo', 'ENGFIS', '20', '18', '9', '14']\n",
            "['a17', 'Grace Isabel Patriarca', 'LCC', '19', '13', '9', '10']\n",
            "['a18', 'Saubhagya Buco', 'LEI', '18', '18', '17', '8']\n",
            "['a19', 'Ivo Vicente Boisa', 'ENGBIOM', '14', '10', '18', '13']\n",
            "['a20', 'Vivaan Castilhos', 'ENGFIS', '15', '14', '11', '12']\n",
            "['a21', 'Layana Camejo', 'ENGFIS', '17', '12', '10', '20']\n",
            "['a22', 'Mahdi Menoita', 'ENGFIS', '11', '16', '8', '16']\n",
            "['a23', 'Yifan Cortinado', 'LEI', '19', '16', '8', '18']\n",
            "['a24', 'Éder Sodré', 'ENGFIS', '17', '13', '14', '12']\n",
            "['a25', 'Dhriti Magano', 'ENGFIS', '19', '11', '8', '19']\n",
            "['a26', 'Steve Devesa', 'ENGBIOM', '10', '16', '8', '13']\n",
            "['a27', 'Lisandro Mariano Picassinos', 'ENGFIS', '13', '10', '16', '10']\n",
            "['a28', 'Itiel Quinoy', 'LEI', '18', '18', '8', '9']\n",
            "['a29', 'Pranika Reimoo', 'LEI', '12', '16', '15', '13']\n",
            "['a30', 'Manaia Viseu', 'ENGFIS', '8', '12', '20', '11']\n",
            "['a31', 'Eva Manuel Caio', 'ENGFIS', '12', '16', '20', '16']\n",
            "['a32', 'Ariane Sofia Foja', 'LEI', '20', '19', '13', '18']\n",
            "['a33', 'Jaime António Pauseiro', 'LCC', '19', '13', '8', '10']\n",
            "['a34', 'Tanisha Marzagoo', 'ENGBIOM', '14', '19', '13', '14']\n",
            "['a35', 'Siyon Anca', 'LEI', '8', '13', '19', '15']\n",
            "['a36', 'Diana Beatriz Boavista', 'LCC', '19', '18', '17', '12']\n",
            "['a37', 'Elisiário Saberio', 'ENGFIS', '18', '18', '10', '19']\n",
            "['a38', 'Maira Brites', 'ENGFIS', '13', '16', '15', '17']\n",
            "['a39', 'Victória Gabriela Incenso', 'LEI', '17', '14', '13', '8']\n",
            "['a40', 'Najua Serôdio', 'LCC', '17', '9', '16', '18']\n",
            "['a41', 'Lachezar Rosas', 'ENGBIOM', '16', '18', '18', '15']\n",
            "['a42', 'Kattleya Trigueiro', 'ENGFIS', '19', '16', '14', '15']\n",
            "['a43', 'Tatiana Guiomar Maricoto', 'LCC', '19', '8', '15', '11']\n",
            "['a44', 'Mélanie Daniela Bugalhão', 'LCC', '17', '9', '17', '18']\n",
            "['a45', 'Imayame Hespanha', 'ENGFIS', '20', '17', '19', '11']\n",
            "['a46', 'Yuri Gabriel Baganha', 'LCC', '15', '18', '12', '16']\n",
            "['a47', 'Moisés João Cornelio', 'LEI', '20', '16', '19', '17']\n",
            "['a48', 'Nazir Assif Trinta', 'LEI', '14', '14', '12', '8']\n",
            "['a49', 'Karamjot Arezes', 'LEI', '10', '9', '20', '12']\n",
            "['a50', 'Rishit Justa', 'ENGBIOM', '9', '9', '9', '12']\n",
            "['a51', 'Iara de Jesus Gonçalo', 'ENGFIS', '14', '8', '12', '14']\n",
            "['a52', 'Stepfan Owusu Lercas', 'LEI', '18', '9', '16', '14']\n",
            "['a53', 'Abner Umbelina', 'ENGBIOM', '20', '16', '10', '13']\n",
            "['a54', 'Dânia Lucy Montelobo', 'LEI', '18', '19', '15', '11']\n",
            "['a55', 'Myla Lopez', 'ENGFIS', '9', '17', '12', '20']\n",
            "['a56', 'Hakeem Brazão', 'LEI', '18', '18', '13', '20']\n",
            "['a57', 'Quinn Aveiro', 'ENGBIOM', '17', '16', '9', '13']\n",
            "['a58', 'Etienne Constentino', 'ENGBIOM', '15', '8', '9', '13']\n",
            "['a59', 'Emanuel Marcos Delfina', 'LEI', '9', '15', '8', '13']\n",
            "['a60', 'Mariana Catarina Ramalheira', 'ENGBIOM', '17', '19', '19', '11']\n",
            "['a61', 'Bradley Tabau', 'LCC', '16', '19', '16', '12']\n",
            "['a62', 'Ahmadou Bamba Calcinha', 'LCC', '13', '20', '8', '16']\n",
            "['a63', 'Francisco Pedro Derresa', 'ENGFIS', '8', '12', '20', '18']\n",
            "['a64', 'Gil Miguel Lima', 'ENGBIOM', '16', '19', '8', '14']\n",
            "['a65', 'Leonor Pedro Carqueijeiro', 'ENGBIOM', '19', '11', '17', '8']\n",
            "['a66', 'Genrikh Maximovich Vila-Chã', 'ENGFIS', '12', '15', '13', '9']\n",
            "['a67', 'Mayra Larissa Rolo', 'LCC', '15', '14', '17', '12']\n",
            "['a68', 'Leandro David Dunhoo', 'ENGBIOM', '15', '14', '11', '15']\n",
            "['a69', 'Adele Belchior', 'ENGBIOM', '17', '12', '20', '12']\n",
            "['a70', 'Frantceska Borreca', 'ENGFIS', '18', '11', '19', '8']\n",
            "['a71', 'Derrick Urias', 'ENGFIS', '11', '10', '8', '14']\n",
            "['a72', 'Ana Gabriel Quirino', 'LCC', '10', '17', '8', '19']\n",
            "['a73', 'Carolina Antoo', 'ENGBIOM', '16', '19', '20', '10']\n",
            "['a74', 'Vânia Sofia Porfirio', 'ENGBIOM', '18', '19', '18', '15']\n",
            "['a75', 'Dárcio Wosvaldo Tudela', 'LEI', '8', '18', '9', '18']\n",
            "['a76', 'Zhara Couxão', 'ENGFIS', '16', '10', '14', '12']\n",
            "['a77', 'Tomé Ferrito', 'LCC', '14', '10', '15', '19']\n",
            "['a78', 'Iasmin Paloma Chaveiro', 'LCC', '8', '15', '19', '9']\n",
            "['a79', 'Sadagi Cruto', 'ENGBIOM', '13', '18', '14', '18']\n",
            "['a80', 'Maria Carolina Josué', 'ENGFIS', '17', '20', '17', '18']\n",
            "['a81', 'Quaresma Lancastre', 'ENGBIOM', '17', '9', '16', '19']\n",
            "['a82', 'Evaldir Gervasio', 'ENGFIS', '16', '19', '15', '8']\n",
            "['a83', 'Dolorinda Adolfo', 'ENGFIS', '11', '20', '16', '8']\n",
            "['a84', 'Laudário Frasão', 'LCC', '20', '19', '10', '19']\n",
            "['a85', 'Rómula Jeronimo', 'ENGFIS', '10', '13', '12', '11']\n",
            "['a86', 'Clésio Rodeiro', 'LCC', '9', '13', '12', '18']\n",
            "['a87', 'Feliciano José Avis', 'ENGFIS', '9', '11', '10', '9']\n",
            "['a88', 'Afonso Adriano Marca', 'ENGBIOM', '8', '16', '12', '15']\n",
            "['a89', 'Victória Miguel Rosete', 'ENGFIS', '8', '13', '13', '18']\n",
            "['a90', 'Tome Teroso', 'ENGFIS', '9', '9', '10', '17']\n",
            "['a91', 'Constança Filipa Melado', 'LEI', '10', '12', '8', '20']\n",
            "['a92', 'Madalena Jesus Alfaiate', 'LEI', '17', '14', '9', '17']\n",
            "['a93', 'Bivhan Reimbau', 'LCC', '17', '11', '8', '12']\n",
            "['a94', 'Viviana Sofia Gaspar', 'ENGBIOM', '16', '16', '20', '14']\n",
            "['a95', 'Íris Soraia Chiote', 'LEI', '11', '11', '17', '16']\n",
            "['a96', 'Anaïs Sintra', 'LCC', '19', '19', '12', '9']\n",
            "['a97', 'Salvador Banaca', 'LCC', '12', '9', '20', '12']\n",
            "['a98', 'Guilherme Matias Almeirão', 'ENGFIS', '14', '9', '12', '11']\n",
            "['a99', 'Xavier Luís Bulha', 'ENGFIS', '17', '13', '8', '10']\n",
            "['a100', 'Tude Searas', 'LEI', '20', '17', '8', '14']\n",
            "filmes\n"
          ]
        }
      ],
      "source": [
        "#Escrita e leitura de csv\n",
        "import csv\n",
        "with open('alunos.csv', mode ='r', encoding='utf-8')as file:\n",
        "    ficheiro = csv.reader(file)\n",
        "    for linha in ficheiro:\n",
        "        print(linha)\n",
        "\n",
        "# Escrita e leitura de json\n",
        "import json\n",
        "f=open(\"cinema.json\",\"r\")\n",
        "dados =json.load(f) \n",
        "for i in dados:\n",
        "    print(i)"
      ]
    },
    {
      "cell_type": "markdown",
      "metadata": {
        "id": "zdP2d2ZH7h__"
      },
      "source": [
        "# Resoluções dos alunos"
      ]
    },
    {
      "cell_type": "markdown",
      "metadata": {},
      "source": [
        "Exercicio 1:"
      ]
    },
    {
      "cell_type": "code",
      "execution_count": null,
      "metadata": {
        "id": "EmZ0V5Nr6_Li"
      },
      "outputs": [
        {
          "name": "stdout",
          "output_type": "stream",
          "text": [
            "id_aluno,nome,curso,tpc1,tpc2,tpc3,tpc4\n",
            "\n",
            "100\n"
          ]
        }
      ],
      "source": [
        "import csv\n",
        "with open('alunos.csv', mode ='r', encoding='utf-8')as file:\n",
        "    ficheiro = csv.reader(file)\n",
        "\n",
        "    linha = file.readline()\n",
        "    print(linha)\n",
        "    \n",
        "    counter_alunos = 0\n",
        "    for i in ficheiro:\n",
        "        counter_alunos += 1\n",
        "\n",
        "    print(counter_alunos)\n",
        "\n",
        "\n",
        "\n"
      ]
    },
    {
      "cell_type": "code",
      "execution_count": null,
      "metadata": {},
      "outputs": [],
      "source": [
        "import csv\n",
        "with open('alunos.csv', mode ='r', encoding='utf-8')as file:\n",
        "    ficheiro = csv.reader(file)\n",
        "\n",
        "    linha = file.readline()\n",
        "\n",
        "    maior_media = 0\n",
        "    counter = 0\n",
        "    alunos_a_ganhar = set()\n",
        "    media_total = 0\n",
        "\n",
        "    for i in ficheiro:\n",
        "        media = (i[-4] + i[-3] + i[-2] + i[-1] )/4\n",
        "        if maior_media < media:\n",
        "            alunos_a_ganhar = {}\n",
        "            maior_media = media\n",
        "        \n",
        "        if media == maior_media:\n",
        "            alunos_a_ganhar.add(i[2])\n",
        "\n",
        "        if media >= 15:\n",
        "            counter+=1\n",
        "\n",
        "        media_total += media\n",
        "\n",
        "    \n",
        "\n",
        "    print(f\"Maior media é {maior_media}\")\n",
        "    print(f\"Sendo esses alunos {alunos_a_ganhar}\")\n",
        "    print(counter)\n"
      ]
    },
    {
      "cell_type": "code",
      "execution_count": null,
      "metadata": {},
      "outputs": [],
      "source": []
    }
  ],
  "metadata": {
    "colab": {
      "provenance": []
    },
    "kernelspec": {
      "display_name": "base",
      "language": "python",
      "name": "python3"
    },
    "language_info": {
      "codemirror_mode": {
        "name": "ipython",
        "version": 3
      },
      "file_extension": ".py",
      "mimetype": "text/x-python",
      "name": "python",
      "nbconvert_exporter": "python",
      "pygments_lexer": "ipython3",
      "version": "3.13.5"
    },
    "orig_nbformat": 4
  },
  "nbformat": 4,
  "nbformat_minor": 0
}
