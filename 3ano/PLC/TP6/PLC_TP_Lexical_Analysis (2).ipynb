{
  "cells": [
    {
      "cell_type": "markdown",
      "metadata": {
        "id": "no018uLHOJPj"
      },
      "source": [
        "# Lexer generation in Python\n",
        "\n",
        "Consider the `gen_tokenizer.py` Python program provided in the course's resources. It generates a Python tokenizer from a JSON file containing token types and associated regular expressions.\n",
        "\n",
        "Write JSON files with token definitions to generate lexers and solve the following exercises."
      ]
    },
    {
      "cell_type": "markdown",
      "metadata": {
        "id": "g2pspwzfO-yf"
      },
      "source": [
        "# Exercise 1\n",
        "\n",
        "Consider the [SQL](https://en.wikipedia.org/wiki/SQL) language use to manage data in relational databases. Consider the following SQL instructions as examples.\n",
        "\n",
        "```sql\n",
        "CREATE TABLE users (\n",
        "  id INTEGER PRIMARY KEY,\n",
        "  name TEXT,\n",
        "  age INTEGER\n",
        ");\n",
        "```\n",
        "\n",
        "```sql\n",
        "INSERT INTO users (name, age) VALUES ('Alice', 30);\n",
        "```\n",
        "\n",
        "```sql\n",
        "SELECT name FROM users WHERE age > 25;\n",
        "```\n",
        "\n",
        "Generate a lexical analyzer for a fragment of the SQL query language using the provided lexer generator."
      ]
    },
    {
      "cell_type": "code",
      "execution_count": null,
      "metadata": {
        "id": "agtphB09PtNf"
      },
      "outputs": [],
      "source": []
    },
    {
      "cell_type": "markdown",
      "metadata": {
        "id": "_21--nG-F2O6"
      },
      "source": [
        "# Exercise 2\n",
        "\n",
        "Consider the [C](https://en.wikipedia.org/wiki/C_(programming_language)) general-purpose programming language. Consider the following C code snippets as examples.\n",
        "\n",
        "```c\n",
        "#include <stdio.h>\n",
        "\n",
        "int main()\n",
        "{\n",
        "    printf(\"hello, world\\n\");\n",
        "}\n",
        "```\n",
        "\n",
        "```c\n",
        "#include <stdio.h>\n",
        "\n",
        "int main(int argc, char **argv) {\n",
        "    int a = 5, b = 3;\n",
        "    int sum = a + b;\n",
        "\n",
        "    printf(\"Sum: %d\\n\", sum);\n",
        "    return 0;\n",
        "}\n",
        "```\n",
        "\n",
        "Generate a lexical analyzer for a fragment of the C programming language using the provided lexer generator."
      ]
    },
    {
      "cell_type": "code",
      "execution_count": null,
      "metadata": {
        "id": "mwbFL4rWALG-"
      },
      "outputs": [],
      "source": []
    },
    {
      "cell_type": "markdown",
      "metadata": {
        "id": "PoRg84D2KaP0"
      },
      "source": [
        "# Lexer generation with `Ply.lex`\n",
        "\n",
        "Use the lexical analyzer provided by `Ply.lex` to solve the following exercises in Python."
      ]
    },
    {
      "cell_type": "markdown",
      "metadata": {
        "id": "FRu6cBlePw9y"
      },
      "source": [
        "# Exercise 3\n",
        "\n",
        "Recall exercise 1 that was solved with the provided lexer generator. Solve it now using the `Ply.lex` module.\n",
        "\n",
        "Consider the SQL query language and the following instructions.\n",
        "\n",
        "\n",
        "```sql\n",
        "CREATE TABLE users (\n",
        "  id INTEGER PRIMARY KEY,\n",
        "  name TEXT,\n",
        "  age INTEGER\n",
        ");\n",
        "```\n",
        "\n",
        "```sql\n",
        "INSERT INTO users (name, age) VALUES ('Alice', 30);\n",
        "```\n",
        "\n",
        "```sql\n",
        "SELECT name FROM users WHERE age > 25;\n",
        "```"
      ]
    },
    {
      "cell_type": "markdown",
      "metadata": {
        "id": "b2gvBoO5QU6B"
      },
      "source": [
        "## Exercise 3.1\n",
        "\n",
        "Generate a lexical analyzer for a fragment of the SQL query language using `Ply.lex`."
      ]
    },
    {
      "cell_type": "code",
      "execution_count": null,
      "metadata": {
        "id": "T4HtMDftQfGM"
      },
      "outputs": [],
      "source": []
    },
    {
      "cell_type": "code",
      "execution_count": null,
      "metadata": {},
      "outputs": [],
      "source": []
    },
    {
      "cell_type": "markdown",
      "metadata": {
        "id": "4ii-nG2uQWGK"
      },
      "source": [
        "## Exercise 3.2\n",
        "\n",
        "Write a function that, using the lexer, identifies and returns all occurrences of identifiers, literal integers, and literal strings.\n",
        "\n",
        "For instance, for the examples above:\n",
        "```python\n",
        "{\n",
        "  \"id\": [\"id\", \"name\", \"age\", \"users\"],\n",
        "  \"string\": [\"Alice\"],\n",
        "  \"int\": [30, 25]\n",
        "}\n",
        "```"
      ]
    },
    {
      "cell_type": "code",
      "execution_count": null,
      "metadata": {
        "id": "_lTDXX5pQfk5"
      },
      "outputs": [],
      "source": []
    },
    {
      "cell_type": "markdown",
      "metadata": {
        "id": "WcKio-r0KzGS"
      },
      "source": [
        "# Exercise 4\n",
        "\n",
        "Recall exercise 2 that was solved with the provided lexer generator. Solve it now using the `Ply.lex` module.\n",
        "\n",
        "Consider the C programming language and the following code snippets.\n",
        "\n",
        "```c\n",
        "#include <stdio.h>\n",
        "\n",
        "int main() {\n",
        "\n",
        "    printf(\"Hello World\");\n",
        "\n",
        "    return 0;\n",
        "}\n",
        "```\n",
        "\n",
        "```c\n",
        "#include <stdio.h>\n",
        "\n",
        "int main(int argc, char **argv) {\n",
        "    int a = 5, b = 3;\n",
        "    int sum = a + b;\n",
        "\n",
        "    printf(\"Sum: %d\\n\", sum);\n",
        "    return 0;\n",
        "}\n",
        "```"
      ]
    },
    {
      "cell_type": "markdown",
      "metadata": {
        "id": "19aCjhj4BJsu"
      },
      "source": [
        "## Exercise 4.1\n",
        "\n",
        "Generate a lexical analyzer for a fragment of the C programming language using `Ply.lex`."
      ]
    },
    {
      "cell_type": "code",
      "execution_count": null,
      "metadata": {
        "id": "xuvwpA6qBOSB"
      },
      "outputs": [],
      "source": []
    },
    {
      "cell_type": "markdown",
      "metadata": {
        "id": "vtBSgp1wLaGX"
      },
      "source": [
        "## Exercise 4.2\n",
        "\n",
        "Write a function that, using the lexer, identify all identifiers that occur in a snippet of C code.\n",
        "\n",
        "For instance, for the first example above, it should return `[\"main\", \"printf\"]`, and for the second `[\"main\", \"printf\", \"argc\", \"argv\", \"a\", \"b\", \"sum\"]`."
      ]
    },
    {
      "cell_type": "code",
      "execution_count": null,
      "metadata": {
        "id": "vLI581TyKyTn"
      },
      "outputs": [],
      "source": []
    },
    {
      "cell_type": "markdown",
      "metadata": {
        "id": "CIlNbcZzLmxX"
      },
      "source": [
        "## Exercise 4.3\n",
        "\n",
        "Adapt the previous exercise so that each identifier occurrence also reports the *line* in which it occurs.\n",
        "\n",
        "For instance, for the first example above, it should return `[(\"main\",[3]), (\"printf\",[5])`, and for the second `[(\"main\",[3]), (\"printf\",[7]), (\"argc\",[3]), (\"argv\",[3]), (\"a\",[4,5]), (\"b\",[4,5]), (\"sum\",[5,7])`."
      ]
    },
    {
      "cell_type": "code",
      "execution_count": null,
      "metadata": {
        "id": "1pglPCTjLz2M"
      },
      "outputs": [],
      "source": []
    },
    {
      "cell_type": "markdown",
      "metadata": {
        "id": "qPrO76fnL0tI"
      },
      "source": [
        "## Exercise 4.4\n",
        "\n",
        "Consider now that the code can also contain single-line and block *comments*. Report all occurring identifiers and the line they occur in.\n",
        "\n",
        "For the example below, it should return `[(\"main\",[8]),(\"printf\",[11])]`.\n",
        "```c\n",
        "// Import input/output functions\n",
        "#include <stdio.h>\n",
        "\n",
        "/*\n",
        "Main function:\n",
        "- says hello\n",
        "- returns\n",
        "*/\n",
        "int main() {\n",
        "\n",
        "    // printf is used to produce output\n",
        "    printf(\"Hello World\");\n",
        "\n",
        "    return 0;\n",
        "}\n",
        "```"
      ]
    },
    {
      "cell_type": "code",
      "execution_count": null,
      "metadata": {
        "id": "VKX-gD1ALy98"
      },
      "outputs": [],
      "source": []
    },
    {
      "cell_type": "markdown",
      "metadata": {
        "id": "HaS5XEbmR1aN"
      },
      "source": [
        "# Exercise 5\n",
        "\n",
        "Consider the [XML](https://en.wikipedia.org/wiki/XML) markup language used to store and transmit data. Use the lexer for XML generated using `Ply.lex` provided in the course's resources to solve the following exercises."
      ]
    },
    {
      "cell_type": "markdown",
      "metadata": {
        "id": "KQeMji3YCwt5"
      },
      "source": [
        "## Exercise 5.1\n",
        "\n",
        "Write a function to convert an XML file into a Python dictionary and dump it in JSON. For instance, for the following XML:\n",
        "```xml\n",
        "<pessoa>\n",
        "    <nome>Maria</nome>\n",
        "    <idade>32</idade>\n",
        "</pessoa>\n",
        "<pessoa>\n",
        "    <nome>Manuel</nome>\n",
        "    <idade>53</idade>\n",
        "</pessoa>\n",
        "```\n",
        "\n",
        "You should produce the dictionary:\n",
        "```python\n",
        "{ \"pessoa\" : [ { \"nome\" : \"Maria\", \"idade\" : 32 }, { \"nome\" : \"Manuel\", \"idade\" : 53 } ]\n",
        "```"
      ]
    },
    {
      "cell_type": "code",
      "execution_count": null,
      "metadata": {
        "id": "Px-Va1o9SVxI"
      },
      "outputs": [],
      "source": []
    }
  ],
  "metadata": {
    "colab": {
      "provenance": []
    },
    "kernelspec": {
      "display_name": "Python 3",
      "name": "python3"
    },
    "language_info": {
      "name": "python"
    }
  },
  "nbformat": 4,
  "nbformat_minor": 0
}
