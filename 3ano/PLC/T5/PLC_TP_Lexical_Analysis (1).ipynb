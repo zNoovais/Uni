{
  "nbformat": 4,
  "nbformat_minor": 0,
  "metadata": {
    "colab": {
      "provenance": [],
      "toc_visible": true
    },
    "kernelspec": {
      "name": "python3",
      "display_name": "Python 3"
    },
    "language_info": {
      "name": "python"
    }
  },
  "cells": [
    {
      "cell_type": "markdown",
      "source": [
        "# Lexer generation in Python\n",
        "\n",
        "Consider the `gen_tokenizer.py` Python program provided in the course's resources. It generates a Python tokenizer from a JSON file containing token types and associated regular expressions.\n",
        "\n",
        "Write JSON files with token definitions to generate lexers and solve the following exercises."
      ],
      "metadata": {
        "id": "no018uLHOJPj"
      }
    },
    {
      "cell_type": "markdown",
      "source": [
        "# Exercise 1\n",
        "\n",
        "Consider the [SQL](https://en.wikipedia.org/wiki/SQL) language use to manage data in relational databases. Consider the following SQL instructions as examples.\n",
        "\n",
        "```sql\n",
        "CREATE TABLE users (\n",
        "  id INTEGER PRIMARY KEY,\n",
        "  name TEXT,\n",
        "  age INTEGER\n",
        ");\n",
        "```\n",
        "\n",
        "```sql\n",
        "INSERT INTO users (name, age) VALUES ('Alice', 30);\n",
        "```\n",
        "\n",
        "```sql\n",
        "SELECT name FROM users WHERE age > 25;\n",
        "```\n",
        "\n",
        "Generate a lexical analyzer for a fragment of the SQL query language using the provided lexer generator."
      ],
      "metadata": {
        "id": "g2pspwzfO-yf"
      }
    },
    {
      "cell_type": "code",
      "source": [],
      "metadata": {
        "id": "agtphB09PtNf"
      },
      "execution_count": null,
      "outputs": []
    },
    {
      "cell_type": "markdown",
      "source": [
        "# Exercise 2\n",
        "\n",
        "Consider the [C](https://en.wikipedia.org/wiki/C_(programming_language)) general-purpose programming language. Consider the following C code snippets as examples.\n",
        "\n",
        "```c\n",
        "#include <stdio.h>\n",
        "\n",
        "int main()\n",
        "{\n",
        "    printf(\"hello, world\\n\");\n",
        "}\n",
        "```\n",
        "\n",
        "```c\n",
        "#include <stdio.h>\n",
        "\n",
        "int main(int argc, char **argv) {\n",
        "    int a = 5, b = 3;\n",
        "    int sum = a + b;\n",
        "\n",
        "    printf(\"Sum: %d\\n\", sum);\n",
        "    return 0;\n",
        "}\n",
        "```\n",
        "\n",
        "Generate a lexical analyzer for a fragment of the C programming language using the provided lexer generator."
      ],
      "metadata": {
        "id": "_21--nG-F2O6"
      }
    },
    {
      "cell_type": "code",
      "source": [],
      "metadata": {
        "id": "mwbFL4rWALG-"
      },
      "execution_count": null,
      "outputs": []
    },
    {
      "cell_type": "markdown",
      "source": [
        "# Lexer generation with `Ply.lex`\n",
        "\n",
        "Use the lexical analyzer provided by `Ply.lex` to solve the following exercises in Python."
      ],
      "metadata": {
        "id": "PoRg84D2KaP0"
      }
    },
    {
      "cell_type": "markdown",
      "source": [
        "# Exercise 3\n",
        "\n",
        "Recall exercise 1 that was solved with the provided lexer generator. Solve it now using the `Ply.lex` module.\n",
        "\n",
        "Consider the SQL query language and the following instructions.\n",
        "\n",
        "\n",
        "```sql\n",
        "CREATE TABLE users (\n",
        "  id INTEGER PRIMARY KEY,\n",
        "  name TEXT,\n",
        "  age INTEGER\n",
        ");\n",
        "```\n",
        "\n",
        "```sql\n",
        "INSERT INTO users (name, age) VALUES ('Alice', 30);\n",
        "```\n",
        "\n",
        "```sql\n",
        "SELECT name FROM users WHERE age > 25;\n",
        "```"
      ],
      "metadata": {
        "id": "FRu6cBlePw9y"
      }
    },
    {
      "cell_type": "markdown",
      "source": [
        "## Exercise 3.1\n",
        "\n",
        "Generate a lexical analyzer for a fragment of the SQL query language using `Ply.lex`."
      ],
      "metadata": {
        "id": "b2gvBoO5QU6B"
      }
    },
    {
      "cell_type": "code",
      "source": [],
      "metadata": {
        "id": "T4HtMDftQfGM"
      },
      "execution_count": null,
      "outputs": []
    },
    {
      "cell_type": "markdown",
      "source": [
        "## Exercise 3.2\n",
        "\n",
        "Write a function that, using the lexer, identifies and returns all occurrences of identifiers, literal integers, and literal strings.\n",
        "\n",
        "For instance, for the examples above:\n",
        "```python\n",
        "{\n",
        "  \"id\": [\"id\", \"name\", \"age\", \"users\"],\n",
        "  \"string\": [\"Alice\"],\n",
        "  \"int\": [30, 25]\n",
        "}\n",
        "```"
      ],
      "metadata": {
        "id": "4ii-nG2uQWGK"
      }
    },
    {
      "cell_type": "code",
      "source": [],
      "metadata": {
        "id": "_lTDXX5pQfk5"
      },
      "execution_count": null,
      "outputs": []
    },
    {
      "cell_type": "markdown",
      "source": [
        "# Exercise 4\n",
        "\n",
        "Recall exercise 2 that was solved with the provided lexer generator. Solve it now using the `Ply.lex` module.\n",
        "\n",
        "Consider the C programming language and the following code snippets.\n",
        "\n",
        "```c\n",
        "#include <stdio.h>\n",
        "\n",
        "int main() {\n",
        "\n",
        "    printf(\"Hello World\");\n",
        "\n",
        "    return 0;\n",
        "}\n",
        "```\n",
        "\n",
        "```c\n",
        "#include <stdio.h>\n",
        "\n",
        "int main(int argc, char **argv) {\n",
        "    int a = 5, b = 3;\n",
        "    int sum = a + b;\n",
        "\n",
        "    printf(\"Sum: %d\\n\", sum);\n",
        "    return 0;\n",
        "}\n",
        "```"
      ],
      "metadata": {
        "id": "WcKio-r0KzGS"
      }
    },
    {
      "cell_type": "markdown",
      "source": [
        "## Exercise 4.1\n",
        "\n",
        "Generate a lexical analyzer for a fragment of the C programming language using `Ply.lex`."
      ],
      "metadata": {
        "id": "19aCjhj4BJsu"
      }
    },
    {
      "cell_type": "code",
      "source": [],
      "metadata": {
        "id": "xuvwpA6qBOSB"
      },
      "execution_count": null,
      "outputs": []
    },
    {
      "cell_type": "markdown",
      "source": [
        "## Exercise 4.2\n",
        "\n",
        "Write a function that, using the lexer, identify all identifiers that occur in a snippet of C code.\n",
        "\n",
        "For instance, for the first example above, it should return `[\"main\", \"printf\"]`, and for the second `[\"main\", \"printf\", \"argc\", \"argv\", \"a\", \"b\", \"sum\"]`."
      ],
      "metadata": {
        "id": "vtBSgp1wLaGX"
      }
    },
    {
      "cell_type": "code",
      "source": [],
      "metadata": {
        "id": "vLI581TyKyTn"
      },
      "execution_count": null,
      "outputs": []
    },
    {
      "cell_type": "markdown",
      "source": [
        "## Exercise 4.3\n",
        "\n",
        "Adapt the previous exercise so that each identifier occurrence also reports the *line* in which it occurs.\n",
        "\n",
        "For instance, for the first example above, it should return `[(\"main\",[3]), )(\"printf\",[5])`, and for the second `[(\"main\",[3]), (\"printf\",[7]), (\"argc\",[3]), (\"argv\",[3]), (\"a\",[4,5]), (\"b\",[4,5]), (\"sum\",[5,7])`."
      ],
      "metadata": {
        "id": "CIlNbcZzLmxX"
      }
    },
    {
      "cell_type": "code",
      "source": [],
      "metadata": {
        "id": "1pglPCTjLz2M"
      },
      "execution_count": null,
      "outputs": []
    },
    {
      "cell_type": "markdown",
      "source": [
        "## Exercise 4.4\n",
        "\n",
        "Consider now that the code can also contain single-line and block *comments*. Report all occurring identifiers and the line they occur in.\n",
        "\n",
        "For the example below, it should return `[(\"main\",8),(\"printf\",11)]`.\n",
        "```c\n",
        "// Import input/output functions\n",
        "#include <stdio.h>\n",
        "\n",
        "/*\n",
        "Main function:\n",
        "- says hello\n",
        "- returns\n",
        "*/\n",
        "int main() {\n",
        "\n",
        "    // printf is used to produce output\n",
        "    printf(\"Hello World\");\n",
        "\n",
        "    return 0;\n",
        "}\n",
        "```"
      ],
      "metadata": {
        "id": "qPrO76fnL0tI"
      }
    },
    {
      "cell_type": "code",
      "source": [],
      "metadata": {
        "id": "VKX-gD1ALy98"
      },
      "execution_count": null,
      "outputs": []
    },
    {
      "cell_type": "markdown",
      "source": [
        "# Exercise 5\n",
        "\n",
        "Consider the [XML](https://en.wikipedia.org/wiki/XML) markup language used to store and transmit data. Use the lexer for XML generated using `Ply.lex` provided in the course's resources to solve the following exercises."
      ],
      "metadata": {
        "id": "HaS5XEbmR1aN"
      }
    },
    {
      "cell_type": "markdown",
      "source": [
        "## Exercise 5.1\n",
        "\n",
        "Write a function to convert an XML file into a Python dictionary and dump it in JSON. For instance, for the following XML:\n",
        "```xml\n",
        "<pessoa>\n",
        "    <nome>Maria</nome>\n",
        "    <idade>32</idade>\n",
        "</pessoa>\n",
        "<pessoa>\n",
        "    <nome>Manuel</nome>\n",
        "    <idade>53</idade>\n",
        "</pessoa>\n",
        "```\n",
        "\n",
        "You should produce the dictionary:\n",
        "```python\n",
        "{ \"pessoa\" : [ { \"nome\" : \"Maria\", \"idade\" : 32 }, { \"nome\" : \"Manuel\", \"idade\" : 53 } ]\n",
        "```"
      ],
      "metadata": {
        "id": "KQeMji3YCwt5"
      }
    },
    {
      "cell_type": "code",
      "source": [],
      "metadata": {
        "id": "Px-Va1o9SVxI"
      },
      "execution_count": null,
      "outputs": []
    }
  ]
}