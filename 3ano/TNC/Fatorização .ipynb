{
 "cells": [
  {
   "cell_type": "code",
   "execution_count": 3,
   "metadata": {},
   "outputs": [],
   "source": [
    "f = lambda x: x^2+1"
   ]
  },
  {
   "cell_type": "code",
   "execution_count": 4,
   "metadata": {},
   "outputs": [
    {
     "data": {
      "text/plain": [
       "10"
      ]
     },
     "execution_count": 4,
     "metadata": {},
     "output_type": "execute_result"
    }
   ],
   "source": [
    "f(3) #isso ta em Z"
   ]
  },
  {
   "cell_type": "code",
   "execution_count": 24,
   "metadata": {},
   "outputs": [
    {
     "name": "stdout",
     "output_type": "stream",
     "text": [
      "11232313307\n",
      "190984\n"
     ]
    }
   ],
   "source": [
    "n = next_prime(11232313299)*next_prime(221323123231312)\n",
    "x0 = mod(2,n)\n",
    "x = f(x0)\n",
    "y = f(f(x0))\n",
    "x,y\n",
    "c = 1\n",
    "while gcd(y-x,n) == 1 or x == y: \n",
    "    x = f(x)\n",
    "    y = f(f(y))\n",
    "    \n",
    "    c +=1\n",
    "print(gcd(y-x,n))\n",
    "print(c)"
   ]
  },
  {
   "cell_type": "code",
   "execution_count": 32,
   "metadata": {},
   "outputs": [
    {
     "name": "stdout",
     "output_type": "stream",
     "text": [
      "36287\n",
      "x^2+1\n",
      "2\n",
      "131\n",
      "7\n"
     ]
    }
   ],
   "source": [
    "def rho_pollard():\n",
    "    n = ZZ(input())\n",
    "    Zn = IntegerModRing(n)\n",
    "    Pol = PolynomialRing(Zn,'x')\n",
    "    pol = input()\n",
    "    f = Pol(pol)\n",
    "    x0 = Zn(input())\n",
    "    a = f(x0)\n",
    "    b = f(f(x0))\n",
    "    c = 1\n",
    "    while gcd(b-a,n) == 1 or a == b: \n",
    "        a = f(a)\n",
    "        b = f(f(b))\n",
    "    \n",
    "        c +=1\n",
    "    print(gcd(b-a,n))\n",
    "    print(c)\n",
    "    \n",
    "rho_pollard()"
   ]
  },
  {
   "cell_type": "code",
   "execution_count": 33,
   "metadata": {},
   "outputs": [
    {
     "data": {
      "text/plain": [
       "437"
      ]
     },
     "execution_count": 33,
     "metadata": {},
     "output_type": "execute_result"
    }
   ],
   "source": [
    "19*23"
   ]
  },
  {
   "cell_type": "code",
   "execution_count": 40,
   "metadata": {},
   "outputs": [
    {
     "data": {
      "text/plain": [
       "5"
      ]
     },
     "execution_count": 40,
     "metadata": {},
     "output_type": "execute_result"
    }
   ],
   "source": [
    "2+ +3"
   ]
  },
  {
   "cell_type": "code",
   "execution_count": null,
   "metadata": {},
   "outputs": [],
   "source": []
  }
 ],
 "metadata": {
  "kernelspec": {
   "display_name": "SageMath 9.3",
   "language": "sage",
   "name": "sagemath"
  },
  "language_info": {
   "codemirror_mode": {
    "name": "ipython",
    "version": 3
   },
   "file_extension": ".py",
   "mimetype": "text/x-python",
   "name": "python",
   "nbconvert_exporter": "python",
   "pygments_lexer": "ipython3",
   "version": "3.7.10"
  }
 },
 "nbformat": 4,
 "nbformat_minor": 4
}
