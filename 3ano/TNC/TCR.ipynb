{
 "cells": [
  {
   "cell_type": "code",
   "execution_count": null,
   "metadata": {},
   "outputs": [],
   "source": [
    "#TCR ou crt()"
   ]
  },
  {
   "cell_type": "code",
   "execution_count": null,
   "metadata": {},
   "outputs": [],
   "source": []
  },
  {
   "cell_type": "code",
   "execution_count": 4,
   "metadata": {},
   "outputs": [],
   "source": [
    "n1, n2, n3 = 10, 9, 7"
   ]
  },
  {
   "cell_type": "code",
   "execution_count": null,
   "metadata": {
    "scrolled": true
   },
   "outputs": [],
   "source": []
  },
  {
   "cell_type": "code",
   "execution_count": 7,
   "metadata": {},
   "outputs": [],
   "source": [
    "a, b = 12,35\n",
    "\n",
    "a1, a2, a3 = mod(a, n1), mod(a,n2), mod(a,n3)\n",
    "b1, b2, b3 = mod(b,n1), mod(b,n2), mod(b,n3)"
   ]
  },
  {
   "cell_type": "code",
   "execution_count": 11,
   "metadata": {},
   "outputs": [],
   "source": [
    "c1 = ZZ(a1*b1)\n",
    "c2 = ZZ(a2*b2)\n",
    "c3 = ZZ(a3*b3)"
   ]
  },
  {
   "cell_type": "code",
   "execution_count": 13,
   "metadata": {},
   "outputs": [
    {
     "data": {
      "text/plain": [
       "420"
      ]
     },
     "execution_count": 13,
     "metadata": {},
     "output_type": "execute_result"
    }
   ],
   "source": [
    "crt(crt(c1,c2,n1,n2),c3, n1*n2,n3)"
   ]
  },
  {
   "cell_type": "code",
   "execution_count": 16,
   "metadata": {},
   "outputs": [],
   "source": [
    "m1, m2, m3, m4, m5, m6 = 2^35-1, 2^34-1, 2^33-1, 2^31-1, 2^29-1, 2^23-1 \n"
   ]
  },
  {
   "cell_type": "code",
   "execution_count": 25,
   "metadata": {},
   "outputs": [],
   "source": [
    "a, b = ZZ(1237940039285380274899124), ZZ(2475880078570760549798248453)"
   ]
  },
  {
   "cell_type": "code",
   "execution_count": 18,
   "metadata": {},
   "outputs": [],
   "source": [
    "M = m1*m2*m3*m4*m5*m6"
   ]
  },
  {
   "cell_type": "code",
   "execution_count": 20,
   "metadata": {},
   "outputs": [],
   "source": [
    "a1, a2, a3, a4, a5, a6 = mod(a,m1), mod(a,m2), mod(a,m3), mod(a, m4), mod(a,m5), mod(a,m6) "
   ]
  },
  {
   "cell_type": "code",
   "execution_count": 21,
   "metadata": {},
   "outputs": [],
   "source": [
    "b1,b2,b3,b4,b5,b6 = mod(b,m1),mod(b,m2),mod(b,m3),mod(b,m4),mod(b,m5),mod(b,m6)"
   ]
  },
  {
   "cell_type": "code",
   "execution_count": 26,
   "metadata": {},
   "outputs": [],
   "source": [
    "c1 = ZZ(a1*b1)\n",
    "c2 = ZZ(a2*b2)\n",
    "c3 = ZZ(a3*b3)\n",
    "c4 = ZZ(a4*b4)\n",
    "c5 = ZZ(a5*b5)\n",
    "c6  = ZZ(a6*b6)"
   ]
  },
  {
   "cell_type": "code",
   "execution_count": 28,
   "metadata": {},
   "outputs": [
    {
     "data": {
      "text/plain": [
       "3064991081731777716716693505893180963814016464055172"
      ]
     },
     "execution_count": 28,
     "metadata": {},
     "output_type": "execute_result"
    }
   ],
   "source": [
    "crt(crt(crt(crt(crt(c1,c2,m1,m2),c3,m1*m2,m3),c4,m1*m2*m3,m4),c5,m1*m2*m3*m4,m5),c6,m1*m2*m3*m4*m5,m6) #meu deus"
   ]
  },
  {
   "cell_type": "code",
   "execution_count": null,
   "metadata": {},
   "outputs": [],
   "source": []
  }
 ],
 "metadata": {
  "kernelspec": {
   "display_name": "SageMath 9.3",
   "language": "sage",
   "name": "sagemath"
  },
  "language_info": {
   "codemirror_mode": {
    "name": "ipython",
    "version": 3
   },
   "file_extension": ".py",
   "mimetype": "text/x-python",
   "name": "python",
   "nbconvert_exporter": "python",
   "pygments_lexer": "ipython3",
   "version": "3.7.10"
  }
 },
 "nbformat": 4,
 "nbformat_minor": 4
}
